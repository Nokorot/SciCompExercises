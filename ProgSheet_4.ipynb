{
 "cells": [
  {
   "cell_type": "markdown",
   "id": "9b92679c-9aaf-4cf3-9938-6ec13b1bdc87",
   "metadata": {},
   "source": [
    "# "
   ]
  },
  {
   "cell_type": "markdown",
   "id": "ad875126-3d94-47e7-8544-4c55c4828232",
   "metadata": {},
   "source": [
    "# Programming Assignment 4\n",
    "\n",
    "Written by\n",
    "Ramon Leiser\n",
    "Tor Groje"
   ]
  },
  {
   "cell_type": "markdown",
   "id": "0b864146",
   "metadata": {},
   "source": [
    "# Provided Functions"
   ]
  },
  {
   "cell_type": "code",
   "execution_count": null,
   "id": "dffe6304",
   "metadata": {},
   "outputs": [],
   "source": [
    "import numpy as np\n",
    "\n",
    "import scipy.sparse as sp\n",
    "import scipy.sparse.linalg as spla\n",
    "\n",
    "from scipy.spatial import Delaunay\n",
    "\n",
    "import matplotlib.pyplot as plt"
   ]
  },
  {
   "cell_type": "code",
   "execution_count": null,
   "id": "5bce830e",
   "metadata": {},
   "outputs": [],
   "source": [
    "def christmas_tree_mesh(k, tree_levels = 4):\n",
    "    ## Generates a mesh of a Christmas tree domain\n",
    "    ##       width of the base:   [-0.5 - 0.5*tree_levels, 0.5 + 0.5*tree_levels]\n",
    "    ##       height of the tree:  [0., 2*tree_levels]\n",
    "    \n",
    "    ## Returns: nodes:          an array with the coordinates of every node, i.e. nodes[k] = [x_k, y_k]\n",
    "    ##          elements:       an array of the elements, each of them represented by the indices (in nodes) of its 3 vertices\n",
    "    ##          boundary_nodes: a list of the indices (in nodes) of those nodes in the boundary of the domain\n",
    "    ##          boundary_edges: a list of boundary edges, each of them being a pair of node indices\n",
    "    \n",
    "    total_height = tree_levels * 2.\n",
    "    \n",
    "    xh = 1. / (2**k)\n",
    "    yh = 2. * xh\n",
    "    \n",
    "    x_at_level = {}\n",
    "    y_at_level = {}\n",
    "    elements_at_level = {}\n",
    "    boundary_nodes_at_level = {}\n",
    "    boundary_edges_at_level = {}\n",
    "    \n",
    "    node_idx = 1\n",
    "    last_boundary_node_left = 0\n",
    "    last_boundary_node_right = 0\n",
    "    \n",
    "    for L in range(tree_levels):\n",
    "        if L == 0:\n",
    "            # Initialize with the top node\n",
    "            x_at_level[L] = [0.]\n",
    "            y_at_level[L] = [2.*tree_levels]\n",
    "            boundary_nodes_at_level[L] = [0]\n",
    "        else:\n",
    "            boundary_nodes_at_level[L] = []\n",
    "            \n",
    "            # Initialize with the last 1 + L*2**k nodes from previous level\n",
    "            q = 1 + L*2**k\n",
    "            x_at_level[L] = x_at_level[L-1][-q:]\n",
    "            y_at_level[L] = y_at_level[L-1][-q:]\n",
    "        \n",
    "        boundary_edges_at_level[L] = []\n",
    "        \n",
    "        for i in range(1, 2**k + 1):\n",
    "            yi = total_height - L*2. - i*yh\n",
    "            \n",
    "            boundary_edges_at_level[L].append([node_idx, last_boundary_node_left])\n",
    "            boundary_edges_at_level[L].append([node_idx+1, last_boundary_node_right])\n",
    "            \n",
    "            boundary_nodes_at_level[L].append(node_idx)\n",
    "            boundary_nodes_at_level[L].append(node_idx+1)\n",
    "            \n",
    "            last_boundary_node_left = node_idx\n",
    "            last_boundary_node_right = node_idx + 1\n",
    "            \n",
    "            for j in reversed(range(1, 1 + i + L * 2**(k-1))):\n",
    "                y_at_level[L].append(yi)\n",
    "                y_at_level[L].append(yi)\n",
    "                \n",
    "                x_at_level[L].append(-j * xh)\n",
    "                x_at_level[L].append(j * xh)\n",
    "                \n",
    "                node_idx += 2\n",
    "            \n",
    "            y_at_level[L].append(yi)\n",
    "            x_at_level[L].append(0.)\n",
    "            node_idx += 1\n",
    "        \n",
    "        if L == (tree_levels - 1):\n",
    "            # The last (2**k) * (L+2) - 1 are also boundary nodes\n",
    "            q = (2**k) * (L+2) - 1\n",
    "            \n",
    "            for idx in range(node_idx - q, node_idx):\n",
    "                boundary_nodes_at_level[L].append(idx)\n",
    "                boundary_edges_at_level[L].append([idx, idx - 2])\n",
    "                \n",
    "            boundary_edges_at_level[L].append([node_idx - 1, node_idx - 2])\n",
    "        else:\n",
    "            # The first 2**k from the last (2**k) * (L+2) - 1 are also boundary nodes\n",
    "            q = (2**k) * (L+2) - 1\n",
    "            for idx in range(node_idx - q, node_idx - q + 2**k):\n",
    "                boundary_nodes_at_level[L].append(idx)\n",
    "                \n",
    "                boundary_edges_at_level[L].append([idx, idx - 2])\n",
    "            \n",
    "            last_boundary_node_left += 2**k\n",
    "            last_boundary_node_right += 2**k\n",
    "        \n",
    "        elements_at_level[L] = Delaunay(np.hstack([np.asarray(x_at_level[L])[:, np.newaxis],\n",
    "                                                   np.asarray(y_at_level[L])[:, np.newaxis]])).simplices\n",
    "        \n",
    "    x = x_at_level[0]\n",
    "    y = y_at_level[0]\n",
    "    elements = elements_at_level[0]\n",
    "    boundary_nodes = boundary_nodes_at_level[0]\n",
    "    boundary_edges = boundary_edges_at_level[0]\n",
    "    \n",
    "    for L in range(1, tree_levels):\n",
    "        # Ignore the first 1 + L*2**k nodes\n",
    "        q = 1 + L*2**k\n",
    "        elements_at_level[L] += len(x) - q\n",
    "        boundary_nodes += boundary_nodes_at_level[L]\n",
    "        boundary_edges += boundary_edges_at_level[L]\n",
    "        \n",
    "        x += x_at_level[L][q:]\n",
    "        y += y_at_level[L][q:]\n",
    "        \n",
    "        elements = np.concatenate((elements, elements_at_level[L]))\n",
    "    \n",
    "    nodes = np.hstack([np.asarray(x)[:, np.newaxis], np.asarray(y)[:, np.newaxis]])\n",
    "    \n",
    "    return nodes, elements, boundary_nodes, boundary_edges"
   ]
  },
  {
   "cell_type": "code",
   "execution_count": null,
   "id": "7f5c023d",
   "metadata": {},
   "outputs": [],
   "source": []
  },
  {
   "cell_type": "markdown",
   "id": "27c06ba8",
   "metadata": {},
   "source": [
    "print(boundary_edges)"
   ]
  },
  {
   "cell_type": "markdown",
   "id": "dc5fb105",
   "metadata": {},
   "source": [
    "## (a)"
   ]
  },
  {
   "cell_type": "code",
   "execution_count": null,
   "id": "381d56cd",
   "metadata": {},
   "outputs": [],
   "source": [
    "def assemble_neumann_vector_local(vertex_coords):\n",
    "    return np.length(vertex_coords[0] - vertex_coords[1]) / 2"
   ]
  },
  {
   "cell_type": "code",
   "execution_count": null,
   "id": "faf10f3c",
   "metadata": {},
   "outputs": [],
   "source": [
    "def assemble_neumann_vector(neumann_edges, nodes, neumann_fn):\n",
    "    neumann_vector = np.zeros(len(nodes))\n",
    "    for edge in neumann_edges:\n",
    "        edge_vertex_coords = nodes[edge]\n",
    "        x_edge = (edge_vertex_coords[0] + edge_vertex_coords[1]) / 2\n",
    "        edge_value = neumann_fn(x_edge) * assemble_neumann_vector_local(edge_vertex_coords)\n",
    "        neumann_vector[edge] += edge_value\n",
    " \n",
    " # ## (b)"
   ]
  },
  {
   "cell_type": "code",
   "execution_count": null,
   "id": "204580d3",
   "metadata": {},
   "outputs": [],
   "source": [
    "def solve(A, b, dirichlet_nodes, nodes, dirichlet_fn):\n",
    "    interior = list(set(np.arange(len(b))) - set(dirichlet_nodes));\n",
    "    A = A[tuple(np.meshgrid(interior, interior, sparse=True))]\n",
    "    b = b[interior];\n",
    "\n",
    "    u = np.zeros(len(b)**2);\n",
    "\n",
    "    \n",
    "    \n",
    "    u[interior] = sp.linalg.spsolve(A, b.astype(np.float64));\n",
    "    return u;\n",
    "\n",
    "    # A[tuple(np.meshgrid(dirichlet_nodes, dirichlet_nodes, sparse=True))] \\\n",
    "    #         = sp.eye(len(dirichlet_nodes));\n",
    "    # b[dirichlet_nodes] = 0;\n",
    "\n",
    "    # return sp.linalg.spsolve(A, b.astype(np.float64));\n",
    "    # sp.linalg.spsolve()"
   ]
  },
  {
   "cell_type": "markdown",
   "id": "80a63f40",
   "metadata": {},
   "source": [
    "## (c)"
   ]
  },
  {
   "cell_type": "code",
   "execution_count": null,
   "id": "9a3cdeba",
   "metadata": {},
   "outputs": [],
   "source": [
    "# Visualize the mesh\n",
    "nodes, elements, boundary_nodes, boundary_edges = christmas_tree_mesh(2)\n",
    "\n",
    "fig = plt.figure(figsize=(6,10))\n",
    "\n",
    "plt.triplot(nodes[:,0], nodes[:,1], elements, color='g') # Triangles\n",
    "\n",
    "# Boundary edges\n",
    "for j, s in enumerate(boundary_edges):\n",
    "    edge = nodes[s]\n",
    "    plt.plot(edge[:,0], edge[:,1], 'y')\n",
    "\n",
    "plt.plot(nodes[:,0], nodes[:,1], 'ro') # Nodes\n",
    "plt.plot(nodes[boundary_nodes,0], nodes[boundary_nodes,1], 'yo', mfc='none') # Boundary nodes\n",
    "\n",
    "plt.xlim(-2.7, 2.7); plt.ylim(-0.5, 8.2)\n",
    "plt.show()\n"
   ]
  }
 ],
 "metadata": {
  "kernelspec": {
   "display_name": "Python 3 (ipykernel)",
   "language": "python",
   "name": "python3"
  },
  "language_info": {
   "codemirror_mode": {
    "name": "ipython",
    "version": 3
   },
   "file_extension": ".py",
   "mimetype": "text/x-python",
   "name": "python",
   "nbconvert_exporter": "python",
   "pygments_lexer": "ipython3",
   "version": "3.11.6"
  }
 },
 "nbformat": 4,
 "nbformat_minor": 5
}
