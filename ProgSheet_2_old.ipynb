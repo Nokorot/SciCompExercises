{
 "cells": [
  {
   "cell_type": "markdown",
   "id": "9b92679c-9aaf-4cf3-9938-6ec13b1bdc87",
   "metadata": {},
   "source": [
    "# "
   ]
  },
  {
   "cell_type": "code",
   "execution_count": 3,
   "id": "a23d6502-70b2-4348-a0d7-e2a2141373c1",
   "metadata": {},
   "outputs": [],
   "source": [
    "# %load_ext line_profiler\n",
    "import numpy as np\n",
    "import matplotlib.pyplot as plt\n",
    "import scipy\n",
    "from scipy.sparse import spdiags, kron, eye, linalg\n",
    "from scipy.sparse.linalg import  spsolve\n",
    "n_run = 1"
   ]
  },
  {
   "cell_type": "code",
   "execution_count": 4,
   "id": "f47cc29b-a548-4787-87aa-719582df86e9",
   "metadata": {},
   "outputs": [],
   "source": [
    "def A_matrix(n):\n",
    "    ones = np.ones(n-1);\n",
    "    T = spdiags([-ones,8*ones,-ones], [-1,0,1])\n",
    "    S = spdiags([ones, ones, ones], [-1,0,1])\n",
    "    return 3*n*kron(eye(n-1), T) - 3*n*kron(spdiags([ones, ones], [-1, 1]), S)\n",
    "\n",
    "def M_matrix(n):\n",
    "    ones = np.ones(n-1);\n",
    "    Q = spdiags([ones, 4*ones, ones], [-1,0,1])\n",
    "    return 1/n*kron(Q, Q/4)"
   ]
  },
  {
   "cell_type": "code",
   "execution_count": 5,
   "id": "abb301c0-9b0d-4883-8c60-4074c3aca44f",
   "metadata": {
    "scrolled": true
   },
   "outputs": [
    {
     "name": "stdout",
     "output_type": "stream",
     "text": [
      "Debug: Solving problem 1 for n=4\n",
      "Debug: Solving problem 1 for n=8\n",
      "Debug: Solving problem 1 for n=16\n",
      "Debug: Solving problem 1 for n=32\n",
      "Debug: Solving problem 1 for n=64\n"
     ]
    }
   ],
   "source": [
    "def problem_2_solve(n):\n",
    "    print(f\"Debug: Solving problem 1 for n={n}\")\n",
    "    A = A_matrix(n).tocsc()\n",
    "    M = M_matrix(n)\n",
    "\n",
    "\n",
    "    x = y = np.arange(1,n) / n\n",
    "    X, Y = np.meshgrid(x,y)\n",
    "\n",
    "    f = 5 * np.pi**2 * np.sin(2*np.pi*X)*np.sin(np.pi*Y)\n",
    "    b = f.reshape(((n-1)**2, 1))\n",
    "    \n",
    "    prod = M.dot(b)\n",
    "    return linalg.spsolve(A, prod), (X,Y)\n",
    "\n",
    "ns = [4,8,16,32,64]\n",
    "us = [ problem_2_solve(n) for n in ns ]"
   ]
  },
  {
   "cell_type": "code",
   "execution_count": 13,
   "id": "d4a3a268-839e-4b04-bc76-20825e9f9b1b",
   "metadata": {},
   "outputs": [],
   "source": [
    "def phi_eval(x,k,n):\n",
    "    return (k-1 < x*n)*(x*n < k  )* (1 - k + x*n) \\\n",
    "        +  (k   < x*n)*(x*n < k+1)* (1 + k - x*n)\n",
    "\n",
    "N = 0 # A counter to check how many times the function is called as a callback\n",
    "def u_eval(x,y,U,i,j,n):\n",
    "    global N\n",
    "    N = N + 1\n",
    "    I, J = np.meshgrid([i,i+1],[j, j+1])\n",
    "    mask = (I > 0) * (I < n) * (J > 0) * (J < n)\n",
    "    I = I[mask]\n",
    "    J = J[mask]\n",
    "    \n",
    "    values = phi_eval(x,I,n)*phi_eval(y,J,n)\n",
    "    values = values * U[(J-1)*(n-1) + (I-1)]\n",
    "    return np.sum(values)\n",
    "\n",
    "# Test values\n",
    "# i,j = 16,16\n",
    "# u_eval((2*i + 1)/(2*ns[n_run]),(2*j + 1)/(2*ns[n_run]),us[n_run][0],i,j,ns[n_run])\n",
    "# %lprun -f u_eval u_eval((2*i + 1)/(2*ns[n_run]),(2*j + 1)/(2*ns[n_run]),us[n_run][0],i,j,ns[n_run])\n",
    "def phi_grad_eval(x,k,n):\n",
    "    return (k-1 < x*n)*(x*n < k  )* n \\\n",
    "        +  (k   < x*n)*(x*n < k+1)* (-n)"
   ]
  },
  {
   "cell_type": "code",
   "execution_count": 14,
   "id": "b1ec5585-17c7-4c78-8ebb-ab3d218449fc",
   "metadata": {},
   "outputs": [
    {
     "data": {
      "text/plain": [
       "array([-5.20975691,  0.20612992])"
      ]
     },
     "execution_count": 14,
     "metadata": {},
     "output_type": "execute_result"
    }
   ],
   "source": [
    "def u_grad_eval(x,y,u,i,j,n):\n",
    "    I, J = np.meshgrid([i,i+1],[j, j+1])\n",
    "    mask = (I > 0) * (I < n) * (J > 0) * (J < n)\n",
    "    I = I[mask]\n",
    "    J = J[mask]\n",
    "    U = u[(J-1)*(n-1) + (I-1)]\n",
    "    \n",
    "    x_values = U * phi_grad_eval(x,I,n)*phi_eval(y,J,n)\n",
    "    y_values = U * phi_eval(x,I,n)*phi_grad_eval(y,J,n)\n",
    "    return np.array([np.sum(x_values), np.sum(y_values)])\n",
    "   \n",
    "\n",
    "i = j = ns[n_run]//2\n",
    "\n",
    " \n",
    "u_grad_eval((2*i + 1)/(2*ns[n_run]),(2*j + 1)/(2*ns[n_run]),us[n_run][0],i,j,ns[n_run])"
   ]
  },
  {
   "cell_type": "code",
   "execution_count": 15,
   "id": "30a986a8-598e-4590-8826-9be45c64def1",
   "metadata": {},
   "outputs": [],
   "source": [
    "import itertools\n",
    "\n",
    "def u(x,y):\n",
    "    return np.sin(2*np.pi*x)*np.sin(np.pi*y)\n",
    "def u_grad(x,y):\n",
    "    return np.pi*np.array([2*np.cos(2*np.pi*x)*np.sin(np.pi*y),\n",
    "                           np.sin(2*np.pi*x)*np.cos(np.pi*y)])\n",
    "def error_computation(n,U,):\n",
    "    for i,j in itertools.product(range(1,n), range(1,n)):\n",
    "        (u(x,y) - u_eval(x,y,U,i,j))**2"
   ]
  },
  {
   "cell_type": "code",
   "execution_count": 45,
   "id": "16501339-5102-48f1-a2fc-1b2f9c691cfe",
   "metadata": {},
   "outputs": [
    {
     "name": "stdout",
     "output_type": "stream",
     "text": [
      "Iteration 0\n",
      "L2- rr: 0.1792788455180071\n",
      "Time elapsed:  0:00:01.138771\n",
      "H1-rr: 1.5991101578363316\n",
      "Time elapsed:  0:00:01.863956\n",
      "\n",
      "Iteration 1\n",
      "L2- rr: 0.05246993478170824\n",
      "Time elapsed:  0:00:04.425147\n",
      "H1-rr: 0.7604975029470463\n",
      "Time elapsed:  0:00:07.164349\n",
      "\n",
      "Iteration 2\n",
      "L2- rr: 0.01363765058636007\n",
      "Time elapsed:  0:00:17.534408\n",
      "H1-rr: 0.3707808121100696\n",
      "Time elapsed:  0:00:28.886324\n",
      "\n"
     ]
    }
   ],
   "source": [
    "def L2_error_fun(y, x, U, n, i, j):\n",
    "    return (u(x,y) - u_eval(x,y,U,i,j, n))**2\n",
    "\n",
    "def H1_error_fun(y, x, U, n, i, j):\n",
    "    return np.sum((u_grad(x,y) - u_grad_eval(x, y, U, i, j, n))**2)\n",
    "\n",
    "\n",
    "def total_error(U,n,error_fun):     \n",
    "    default_error = 1.49e-8\n",
    "\n",
    "    def L2_norm(i, j):\n",
    "        x_low, y_low = i/n, j/n\n",
    "        h = 1/n\n",
    "        result = scipy.integrate.dblquad(error_fun, x_low, \n",
    "                                         x_low + h, y_low, \n",
    "                                         y_low + h, \n",
    "                                         args = (U, n, i, j), \n",
    "                                         epsabs = 1.49e-9)[0]\n",
    "        return result\n",
    "\n",
    "    mesh_tuples = itertools.product(range(0,n), range(0,n))\n",
    "\n",
    "    ## Multi-threaded solution. About the same speed unfortunately\n",
    "    import concurrent.futures as futures\n",
    "    with futures.ThreadPoolExecutor() as executor:\n",
    "        futures = [ executor.submit(L2_norm, i,j) for (i,j) in mesh_tuples ]\n",
    "        integrals = [ f.result() for f in futures ]\n",
    "\n",
    "    ## One thread\n",
    "    # integrals = [ L2_norm(i,j)  for (i,j) in mesh_tuples ]) ]\n",
    "       \n",
    "    return np.sqrt(np.sum(np.array(integrals)))\n",
    "\n",
    "from datetime import datetime\n",
    "for i in range(3):\n",
    "    T = datetime.now()\n",
    "    print(\"Iteration %i\" % i)\n",
    "    print(\"L2- rr:\", total_error(us[i][0],ns[i],L2_error_fun))\n",
    "    print(\"Time elapsed: \", datetime.now() - T)\n",
    "    T = datetime.now()\n",
    "    print(\"H1-rr:\", total_error(us[i][0],ns[i],H1_error_fun))\n",
    "    print(\"Time elapsed: \", datetime.now() - T)\n",
    "    print()"
   ]
  },
  {
   "cell_type": "code",
   "execution_count": 46,
   "id": "ad874751-877c-40c4-9590-5e2e6bea7936",
   "metadata": {},
   "outputs": [
    {
     "data": {
      "text/plain": [
       "<matplotlib.legend.Legend at 0x7fcaa51bb050>"
      ]
     },
     "execution_count": 46,
     "metadata": {},
     "output_type": "execute_result"
    },
    {
     "data": {
      "image/png": "[encoded data removed]",
      "text/plain": [
       "<Figure size 640x480 with 1 Axes>"
      ]
     },
     "metadata": {},
     "output_type": "display_data"
    }
   ],
   "source": [
    "values = np.array([[ 0.1792788455180071, 1.5991101578363316],\n",
    "[ 0.05246993478170822, 0.7604975029470463],\n",
    "[0.013637650586360062, 0.3707808121100696],\n",
    "[0.00344259714549818,0.18402302784684987]])\n",
    "\n",
    "plt.loglog(ns[0:4], values[:,0], label='L2')\n",
    "plt.loglog(ns[0:4], values[:,1], label='H1')\n",
    "plt.loglog(ns[0:4], 1/(np.array(ns[0:4])**2), label='h^2')\n",
    "plt.xlabel('n')\n",
    "plt.ylabel('err')\n",
    "plt.grid(True, which=\"both\")\n",
    "plt.legend()"
   ]
  },
  {
   "cell_type": "code",
   "execution_count": null,
   "id": "3f2cf1fe-7236-4126-8094-0d4726626536",
   "metadata": {},
   "outputs": [],
   "source": []
  }
 ],
 "metadata": {
  "kernelspec": {
   "display_name": "Python 3 (ipykernel)",
   "language": "python",
   "name": "python3"
  },
  "language_info": {
   "codemirror_mode": {
    "name": "ipython",
    "version": 3
   },
   "file_extension": ".py",
   "mimetype": "text/x-python",
   "name": "python",
   "nbconvert_exporter": "python",
   "pygments_lexer": "ipython3",
   "version": "3.11.6"
  }
 },
 "nbformat": 4,
 "nbformat_minor": 5
}
