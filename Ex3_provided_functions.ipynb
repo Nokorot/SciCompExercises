{
 "cells": [
  {
   "cell_type": "markdown",
   "metadata": {},
   "source": [
    "# Programming Exercise 3"
   ]
  },
  {
   "cell_type": "code",
   "execution_count": null,
   "metadata": {},
   "outputs": [],
   "source": [
    "import numpy as np\n",
    "import scipy.sparse as sp\n",
    "import matplotlib.pyplot as plt\n",
    "import matplotlib.tri as tri"
   ]
  },
  {
   "cell_type": "code",
   "execution_count": null,
   "metadata": {},
   "outputs": [],
   "source": [
    "def criss_cross_mesh(n):\n",
    "    ## Generates a criss-cross mesh of the unit square with n+1 nodes in each direction\n",
    "    \n",
    "    ## Returns: nodes:          an array with the coordinates of every node, i.e. nodes[k] = [x_k, y_k]\n",
    "    ##          elements:       an array of the elements, each of them represented by the indices (in nodes) of its 3 vertices\n",
    "    ##          boundary_nodes: a list of the indices (in nodes) of those nodes in the boundary of the domain\n",
    "    \n",
    "    x, y = np.meshgrid(np.linspace(0,1,n+1), np.linspace(0,1,n+1))\n",
    "    # Reshape as 1D arrays\n",
    "    x = x.ravel()[:, np.newaxis]\n",
    "    y = y.ravel()[:, np.newaxis]\n",
    "    \n",
    "    nodes = np.hstack([x, y])\n",
    "    \n",
    "    elements = []\n",
    "    for j in range(n):\n",
    "        for i in range(n):\n",
    "            # Add triangles from the box with lower-left corner (i/(n+1), j/(n+1))\n",
    "            ###      d ------- c\n",
    "            ###      |      /  |\n",
    "            ###      |    /    |\n",
    "            ###      |  /      |\n",
    "            ###      a ------- b\n",
    "            a = j*(n+1)+i\n",
    "            b = a + 1\n",
    "            c = b + n + 1\n",
    "            d = a + n + 1\n",
    "            \n",
    "            elements.append([a, b, c]) # Lower-right triangle\n",
    "            elements.append([a, c, d]) # Upper-left triangle\n",
    "    \n",
    "    elements = np.asarray(elements)\n",
    "    \n",
    "    boundary_nodes = []\n",
    "    for k in range(n+1):\n",
    "        boundary_nodes.append(k)         # Bottom side y = 0\n",
    "        boundary_nodes.append(n*(n+1)+k) # Top side y = 1\n",
    "    for k in range(1,n):\n",
    "        boundary_nodes.append(k*(n+1))   # Left side x = 0\n",
    "        boundary_nodes.append(k*(n+1)+n) # Right side x = 1\n",
    "    \n",
    "    return nodes, elements, boundary_nodes"
   ]
  },
  {
   "cell_type": "code",
   "execution_count": null,
   "metadata": {},
   "outputs": [],
   "source": [
    "# Visualize the mesh for n = 3\n",
    "nodes, elements, boundary_nodes = criss_cross_mesh(3)\n",
    "\n",
    "fig = plt.figure(figsize=(6,6))\n",
    "\n",
    "plt.triplot(nodes[:,0], nodes[:,1], elements) # Triangles\n",
    "plt.plot(nodes[:,0], nodes[:,1], 'ro') # Nodes\n",
    "plt.plot(nodes[boundary_nodes,0], nodes[boundary_nodes,1], 'go', mfc='none') # Boundary nodes\n",
    "\n",
    "for j, p in enumerate(nodes):\n",
    "    plt.text(p[0]-0.03, p[1]+0.03, j, color='r', ha='right') # label the points\n",
    "\n",
    "for j, s in enumerate(elements):\n",
    "    p = nodes[s].mean(axis=0)\n",
    "    plt.text(p[0], p[1], '{}'.format(j), ha='center') # label triangles\n",
    "\n",
    "plt.xlim(-0.1, 1.1); plt.ylim(-0.1, 1.1)\n",
    "plt.show()"
   ]
  },
  {
   "cell_type": "markdown",
   "metadata": {},
   "source": [
    "## (a)"
   ]
  },
  {
   "cell_type": "code",
   "execution_count": null,
   "metadata": {},
   "outputs": [],
   "source": [
    "def assemble_stiffness_matrix(elements, nodes):\n",
    "    # Empty sparse matrix \n",
    "    A = sp.lil_matrix((len(nodes), len(nodes)))\n",
    "    \n",
    "    # Loop over all elements \n",
    "    for idx in elements:\n",
    "        A[tuple(np.meshgrid(idx, idx, sparse=True))] += assemble_stiffness_matrix_local(nodes[idx])\n",
    "    \n",
    "    return sp.csr_matrix(A)\n",
    "\n",
    "def assemble_mass_matrix(elements, nodes):\n",
    "    M = sp.lil_matrix((len(nodes),len(nodes)))\n",
    "    \n",
    "    for idx in elements:\n",
    "        M[tuple(np.meshgrid(idx, idx, sparse=True))] += assemble_mass_matrix_local(nodes[idx])\n",
    "        \n",
    "    return sp.csr_matrix(M)"
   ]
  }
 ],
 "metadata": {
  "kernelspec": {
   "display_name": "Python 3",
   "language": "python",
   "name": "python3"
  },
  "language_info": {
   "codemirror_mode": {
    "name": "ipython",
    "version": 3
   },
   "file_extension": ".py",
   "mimetype": "text/x-python",
   "name": "python",
   "nbconvert_exporter": "python",
   "pygments_lexer": "ipython3",
   "version": "3.9.5"
  }
 },
 "nbformat": 4,
 "nbformat_minor": 4
}
